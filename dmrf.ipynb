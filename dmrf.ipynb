{
 "cells": [
  {
   "cell_type": "markdown",
   "source": [
    "# Задание\n",
    "* Собрать информацию о всех строящихся объектах на сайте \"наш.дом.рф\"\n",
    "* Cохранить ее в pandas dataframe\n",
    "* Cохранить pandas dataframe в excel\n",
    "* Cохранить pandas dataframe в pickle\n",
    "* Cохранить pandas dataframe в БД\n",
    "\n",
    "# Задание *\n",
    "* Написать скрипт, который скачивает фотографии всех строящихся объектов с сайта \"наш.дом.рф\"\n"
   ],
   "metadata": {
    "collapsed": false,
    "pycharm": {
     "name": "#%% md\n"
    }
   }
  },
  {
   "cell_type": "code",
   "execution_count": 1,
   "outputs": [],
   "source": [
    "import requests"
   ],
   "metadata": {
    "collapsed": false,
    "pycharm": {
     "name": "#%%\n"
    }
   }
  },
  {
   "cell_type": "markdown",
   "source": [
    "# Выгрузка данных по строящимся объектам"
   ],
   "metadata": {
    "collapsed": false
   }
  },
  {
   "cell_type": "code",
   "execution_count": 2,
   "outputs": [],
   "source": [
    "# Получение кратких данных по всем объектам\n",
    "# Объектов на момент создания программы 10075\n",
    "offset_ = 0\n",
    "limit_ = 1000 # За раз 1000 отрабатывает стабильно\n",
    "iteration = 11 # Чтобы обработать 10075 объектов нужно 11 итераций (11*1000>10075)\n",
    "objects_list = []\n",
    "for i in range(0, iteration):\n",
    "    url = f'https://xn--80az8a.xn--d1aqf.xn--p1ai/%D1%81%D0%B5%D1%80%D0%B2%D0%B8%D1%81%D1%8B/api/kn/object?offset=' \\\n",
    "          f'{offset_}&limit=' \\\n",
    "          f'{limit_}&sortField=devId.devShortCleanNm&sortType=asc&objStatus=0'\n",
    "    res = requests.get(url)\n",
    "    objects_data = res.json()\n",
    "    objects_list.extend(objects_data.get('data').get('list'))\n",
    "    offset_ += limit_"
   ],
   "metadata": {
    "collapsed": false,
    "pycharm": {
     "name": "#%%\n"
    }
   }
  },
  {
   "cell_type": "code",
   "execution_count": 3,
   "outputs": [
    {
     "data": {
      "text/plain": "10075"
     },
     "execution_count": 3,
     "metadata": {},
     "output_type": "execute_result"
    }
   ],
   "source": [
    "# Получиние ID объектов\n",
    "objids = [x.get('objId') for x in objects_list]\n",
    "len(objids)"
   ],
   "metadata": {
    "collapsed": false,
    "pycharm": {
     "name": "#%%\n"
    }
   }
  },
  {
   "cell_type": "code",
   "execution_count": 4,
   "outputs": [
    {
     "name": "stdout",
     "output_type": "stream",
     "text": [
      "10075 \r"
     ]
    }
   ],
   "source": [
    "# Получение расширенных данных по каждому объекту\n",
    "# objids = [13383, 13397, 13398] # Для теста\n",
    "# Для обработки всех объектов нужно ~30 минут\n",
    "objects_list_full = []\n",
    "i = 0\n",
    "for objid in objids:\n",
    "\n",
    "    url = f'https://xn--80az8a.xn--d1aqf.xn--p1ai/%D1%81%D0%B5%D1%80%D0%B2%D0%B8%D1%81%D1%8B/api/object/' \\\n",
    "          f'{objid}'\n",
    "    res_full = requests.get(url)\n",
    "    objects_data_full = res_full.json()\n",
    "    objects_list_full.append(objects_data_full.get('data'))\n",
    "    i += 1\n",
    "    print(i, '\\r', end='') # Для видимости прогресса обработки в консоли"
   ],
   "metadata": {
    "collapsed": false,
    "pycharm": {
     "name": "#%%\n"
    }
   }
  },
  {
   "cell_type": "markdown",
   "source": [
    "# Cохранение данных в pandas dataframe"
   ],
   "metadata": {
    "collapsed": false
   }
  },
  {
   "cell_type": "code",
   "execution_count": 5,
   "outputs": [],
   "source": [
    "import pandas as pd"
   ],
   "metadata": {
    "collapsed": false,
    "pycharm": {
     "name": "#%%\n"
    }
   }
  },
  {
   "cell_type": "code",
   "execution_count": 6,
   "outputs": [],
   "source": [
    "df = pd.json_normalize(objects_list_full)"
   ],
   "metadata": {
    "collapsed": false,
    "pycharm": {
     "name": "#%%\n"
    }
   }
  },
  {
   "cell_type": "markdown",
   "source": [
    "# Cохранение pandas dataframe в excel"
   ],
   "metadata": {
    "collapsed": false
   }
  },
  {
   "cell_type": "code",
   "execution_count": 7,
   "outputs": [],
   "source": [
    "df.to_excel('dmrf.xlsx', index = False)"
   ],
   "metadata": {
    "collapsed": false,
    "pycharm": {
     "name": "#%%\n"
    }
   }
  },
  {
   "cell_type": "markdown",
   "source": [
    "# Cохранение pandas dataframe в pkl"
   ],
   "metadata": {
    "collapsed": false
   }
  },
  {
   "cell_type": "code",
   "execution_count": 8,
   "outputs": [],
   "source": [
    "df.to_pickle('dmrf.pkl')"
   ],
   "metadata": {
    "collapsed": false,
    "pycharm": {
     "name": "#%%\n"
    }
   }
  },
  {
   "cell_type": "markdown",
   "source": [
    "# Cохранение pandas dataframe в БД"
   ],
   "metadata": {
    "collapsed": false
   }
  },
  {
   "cell_type": "code",
   "execution_count": null,
   "outputs": [],
   "source": [
    "from sqlalchemy import create_engine\n",
    "\n",
    "# Подключение к БД\n",
    "user = \"root\" # Ввод имени пользователя в кавычках\n",
    "password = \"root\" # Ввод пароля в кавычках\n",
    "dsn = \"localhost:5432/dmrf\" # Ввод IP сервера БД, порта и имени БД\n",
    "engine = create_engine(f'postgresql://{user}:{password}@{dsn}')\n",
    "\n",
    "df.to_sql(name='dmrf_tbl',\n",
    "            con=engine,\n",
    "            if_exists='replace',\n",
    "            index=False)"
   ],
   "metadata": {
    "collapsed": false,
    "pycharm": {
     "name": "#%%\n",
     "is_executing": true
    }
   }
  },
  {
   "cell_type": "markdown",
   "source": [
    "# Скачивание фото объектов"
   ],
   "metadata": {
    "collapsed": false
   }
  },
  {
   "cell_type": "code",
   "execution_count": 34,
   "outputs": [],
   "source": [
    "import os\n",
    "\n",
    "# objids = [13383, 13397, 13398] # Для теста\n",
    "for objid in objids:\n",
    "\n",
    "    # Получение photoRenderDTO объекта\n",
    "    url = f'https://xn--80az8a.xn--d1aqf.xn--p1ai/%D1%81%D0%B5%D1%80%D0%B2%D0%B8%D1%81%D1%8B/api/object/' \\\n",
    "          f'{objid}'\n",
    "    res = requests.get(url)\n",
    "    objects_data = res.json()\n",
    "    photoRenderDTO = objects_data.get('data').get('photoRenderDTO')\n",
    "\n",
    "    i = 1\n",
    "    # Перебор всех objRenderPhotoUrl для объекта\n",
    "    for photo in photoRenderDTO:\n",
    "        url_photo = photo.get('objRenderPhotoUrl')\n",
    "        res_photo = requests.get(url_photo)\n",
    "\n",
    "        # Создание директории для сохранения фото\n",
    "        if not os.path.isdir(f'foto\\\\{objid}'):\n",
    "            os.mkdir(f'foto\\\\{objid}')\n",
    "\n",
    "        # Создание файла и сохранение в него фото\n",
    "        with open(f'foto\\\\{objid}\\\\{objid}_{i}.jpg', 'wb') as f:\n",
    "            f.write(res_photo.content)\n",
    "\n",
    "        i += 1"
   ],
   "metadata": {
    "collapsed": false,
    "pycharm": {
     "name": "#%%\n"
    }
   }
  }
 ],
 "metadata": {
  "kernelspec": {
   "display_name": "Python 3",
   "language": "python",
   "name": "python3"
  },
  "language_info": {
   "codemirror_mode": {
    "name": "ipython",
    "version": 2
   },
   "file_extension": ".py",
   "mimetype": "text/x-python",
   "name": "python",
   "nbconvert_exporter": "python",
   "pygments_lexer": "ipython2",
   "version": "2.7.6"
  }
 },
 "nbformat": 4,
 "nbformat_minor": 0
}